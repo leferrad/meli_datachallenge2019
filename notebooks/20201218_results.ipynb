{
 "cells": [
  {
   "cell_type": "markdown",
   "metadata": {},
   "source": [
    "**MELI DATA CHALLENGE 2019 - RESULTS**\n",
    "=====================================\n",
    "**Description:** \n",
    "\n",
    "This notebook is intended to analyze the results of the models obtained, in order to assess the performance of the solution developed as well as to identify next steps to improve it.\n",
    "\n",
    "> **NOTE:** these results were obtained with a sample of 1M rows, due to lack of time to run the last changes with all the 20M rows. Some differences can be expected with the results of the actual competition."
   ]
  },
  {
   "cell_type": "code",
   "execution_count": 1,
   "metadata": {},
   "outputs": [],
   "source": [
    "import json\n",
    "import os\n",
    "\n",
    "import matplotlib.pyplot as plt\n",
    "import pandas as pd\n",
    "import seaborn as sns\n",
    "\n",
    "from melidatachall19.utils import load_profile"
   ]
  },
  {
   "cell_type": "code",
   "execution_count": 2,
   "metadata": {},
   "outputs": [],
   "source": [
    "# Util functions \n",
    "\n",
    "def get_json_results(profile):\n",
    "    \"\"\"Load all results from JSON files\"\"\"\n",
    "    results = dict()\n",
    "    folder = os.path.abspath(\".\")\n",
    "\n",
    "    for l, items in profile[\"paths\"][\"results\"].items():\n",
    "        results[l] = dict()\n",
    "        for k, path in items.items():\n",
    "            with open(path, \"r\") as f:\n",
    "                results[l][k] = json.load(f)\n",
    "                \n",
    "    return results\n",
    "\n",
    "def get_df_results(results, language=\"es\"):\n",
    "    \"\"\"Get a pd.DataFrame with results for model of 'language'\"\"\"\n",
    "    data = dict()\n",
    "    \n",
    "    for d, items in results.items():\n",
    "        if d not in [\"train\", \"valid\", \"test\"]:\n",
    "            continue\n",
    "            \n",
    "        if \"dataset\" not in data:\n",
    "            data[\"dataset\"] = [d]\n",
    "        else:\n",
    "            data[\"dataset\"].append(d)\n",
    "        for k, v in items[language].items():\n",
    "            if k not in data:\n",
    "                data[k] = [v]\n",
    "            else:\n",
    "                data[k].append(v)\n",
    "\n",
    "    return pd.DataFrame(data)"
   ]
  },
  {
   "cell_type": "code",
   "execution_count": 3,
   "metadata": {},
   "outputs": [
    {
     "name": "stdout",
     "output_type": "stream",
     "text": [
      "Profile used for the execution:\n"
     ]
    },
    {
     "data": {
      "text/plain": [
       "{'paths': {'data': '../data',\n",
       "  'raw': '../data/train.csv',\n",
       "  'train': {'es': '../data/train_es.parquet',\n",
       "   'pt': '../data/train_pt.parquet'},\n",
       "  'test': {'es': '../data/test_es.parquet', 'pt': '../data/test_pt.parquet'},\n",
       "  'model': {'es': '../models/model_es.h5', 'pt': '../models/model_pt.h5'},\n",
       "  'vectorizer': {'es': '../models/vectorizer_es.pkl',\n",
       "   'pt': '../models/vectorizer_pt.pkl'},\n",
       "  'label_encoder': {'es': '../models/label_encoder_es.pkl',\n",
       "   'pt': '../models/label_encoder_pt.pkl'},\n",
       "  'results': {'train': {'es': '../models/results/train_es.json',\n",
       "    'pt': '../models/results/train_pt.json'},\n",
       "   'valid': {'es': '../models/results/valid_es.json',\n",
       "    'pt': '../models/results/valid_pt.json'},\n",
       "   'test': {'es': '../models/results/test_es.json',\n",
       "    'pt': '../models/results/test_pt.json'},\n",
       "   'fit_history': {'es': '../models/results/fit_history_es.json',\n",
       "    'pt': '../models/results/fit_history_pt.json'}}},\n",
       " 'preprocess': {'nrows': 1000000, 'test_size': 0.3, 'min_count_category': 20},\n",
       " 'model': {'valid_size': 0.3,\n",
       "  'n_epochs': 10,\n",
       "  'batch_size': 256,\n",
       "  'max_tokens': 40000,\n",
       "  'max_len_seq': 90,\n",
       "  'embedding_dim': 256},\n",
       " 'logger': {'level': 'INFO'},\n",
       " 'seed': 123}"
      ]
     },
     "execution_count": 3,
     "metadata": {},
     "output_type": "execute_result"
    }
   ],
   "source": [
    "profile = load_profile(\"../profiles/profile_sampled_data.yml\", root_path=\"..\")\n",
    "print(\"Profile used for the execution:\")\n",
    "profile"
   ]
  },
  {
   "cell_type": "code",
   "execution_count": 4,
   "metadata": {},
   "outputs": [
    {
     "name": "stdout",
     "output_type": "stream",
     "text": [
      "JSON with results obtained\n"
     ]
    },
    {
     "data": {
      "text/plain": [
       "{'train': {'es': {'accuracy': 0.8962935123188731,\n",
       "   'balanced_accuracy': 0.8438454303401595,\n",
       "   'f1_micro': 0.8962935123188731,\n",
       "   'loss': 0.520282506942749},\n",
       "  'pt': {'accuracy': 0.881917687191695,\n",
       "   'balanced_accuracy': 0.8463125174955868,\n",
       "   'f1_micro': 0.881917687191695,\n",
       "   'loss': 0.5792341232299805}},\n",
       " 'valid': {'es': {'accuracy': 0.7961280729012763,\n",
       "   'balanced_accuracy': 0.7149549339359018,\n",
       "   'f1_micro': 0.7961280729012763,\n",
       "   'loss': 1.2358505725860596},\n",
       "  'pt': {'accuracy': 0.7851839126534196,\n",
       "   'balanced_accuracy': 0.7308242441676795,\n",
       "   'f1_micro': 0.7851839126534196,\n",
       "   'loss': 1.2547917366027832}},\n",
       " 'test': {'es': {'accuracy': 0.7944418496029892,\n",
       "   'balanced_accuracy': 0.7151979057320142,\n",
       "   'f1_micro': 0.7944418496029892,\n",
       "   'loss': 1.2455775737762451},\n",
       "  'pt': {'accuracy': 0.7868294996759819,\n",
       "   'balanced_accuracy': 0.7311824410133556,\n",
       "   'f1_micro': 0.7868294996759819,\n",
       "   'loss': 1.2606128454208374}},\n",
       " 'fit_history': {'es': {'loss': [4.833012412421,\n",
       "    1.6060432634234,\n",
       "    1.243398273423424,\n",
       "    1.078111239812331,\n",
       "    0.98561123987123],\n",
       "   'sparse_categorical_accuracy': [0.32291123532523,\n",
       "    0.7047090128371,\n",
       "    0.757599123123,\n",
       "    0.779912312893712,\n",
       "    0.79679821938912],\n",
       "   'val_loss': [1.48061231243532,\n",
       "    1.2629987918232,\n",
       "    1.23364821123,\n",
       "    1.227098192323,\n",
       "    1.235812312379812],\n",
       "   'val_sparse_categorical_accuracy': [0.74661231235537,\n",
       "    0.78297671263321,\n",
       "    0.789387128321,\n",
       "    0.795087123642,\n",
       "    0.79618791723123],\n",
       "   'lr': [0.0010000000474974513,\n",
       "    0.0010000000474974513,\n",
       "    0.0010000000474974513,\n",
       "    0.0010000000474974513,\n",
       "    0.0010000000474974513]},\n",
       "  'pt': {'loss': [4.868223981233,\n",
       "    1.69059891823,\n",
       "    1.3499221889,\n",
       "    1.3022129872,\n",
       "    1.122387812],\n",
       "   'sparse_categorical_accuracy': [0.3141123731,\n",
       "    0.68288781231,\n",
       "    0.73389891823,\n",
       "    0.74779891223,\n",
       "    0.773298981231],\n",
       "   'val_loss': [1.50119812312,\n",
       "    1.29449812312,\n",
       "    1.27991298123,\n",
       "    1.2403119892,\n",
       "    1.2548001231],\n",
       "   'val_sparse_categorical_accuracy': [0.738899891231,\n",
       "    0.77241239812,\n",
       "    0.776912971339,\n",
       "    0.786191888425,\n",
       "    0.785290810232],\n",
       "   'lr': [0.0010000000474974513,\n",
       "    0.0010000000474974513,\n",
       "    0.0010000000474974513,\n",
       "    0.0010000000474974513,\n",
       "    0.0010000000474974513]}}}"
      ]
     },
     "execution_count": 4,
     "metadata": {},
     "output_type": "execute_result"
    }
   ],
   "source": [
    "all_results = get_json_results(profile)\n",
    "print(\"JSON with results obtained\")\n",
    "all_results"
   ]
  },
  {
   "cell_type": "markdown",
   "metadata": {},
   "source": [
    "### > Check history of modeling\n",
    "\n",
    "Let's see how the model was fitted during the training session to identify possible overfitting / underfitting on the process. \n",
    "\n",
    "If the metric has a prefix \"val\" it corresponds to the validation set, otherwise to the train set."
   ]
  },
  {
   "cell_type": "code",
   "execution_count": 5,
   "metadata": {},
   "outputs": [],
   "source": [
    "fit_history_es = pd.DataFrame(all_results[\"fit_history\"][\"es\"])\n",
    "fit_history_pt = pd.DataFrame(all_results[\"fit_history\"][\"pt\"])"
   ]
  },
  {
   "cell_type": "markdown",
   "metadata": {},
   "source": [
    "#### Spanish model"
   ]
  },
  {
   "cell_type": "code",
   "execution_count": 6,
   "metadata": {},
   "outputs": [
    {
     "data": {
      "text/html": [
       "<div>\n",
       "<style scoped>\n",
       "    .dataframe tbody tr th:only-of-type {\n",
       "        vertical-align: middle;\n",
       "    }\n",
       "\n",
       "    .dataframe tbody tr th {\n",
       "        vertical-align: top;\n",
       "    }\n",
       "\n",
       "    .dataframe thead th {\n",
       "        text-align: right;\n",
       "    }\n",
       "</style>\n",
       "<table border=\"1\" class=\"dataframe\">\n",
       "  <thead>\n",
       "    <tr style=\"text-align: right;\">\n",
       "      <th></th>\n",
       "      <th>loss</th>\n",
       "      <th>sparse_categorical_accuracy</th>\n",
       "      <th>val_loss</th>\n",
       "      <th>val_sparse_categorical_accuracy</th>\n",
       "      <th>lr</th>\n",
       "    </tr>\n",
       "  </thead>\n",
       "  <tbody>\n",
       "    <tr>\n",
       "      <th>0</th>\n",
       "      <td>4.833012</td>\n",
       "      <td>0.322911</td>\n",
       "      <td>1.480612</td>\n",
       "      <td>0.746612</td>\n",
       "      <td>0.001</td>\n",
       "    </tr>\n",
       "    <tr>\n",
       "      <th>1</th>\n",
       "      <td>1.606043</td>\n",
       "      <td>0.704709</td>\n",
       "      <td>1.262999</td>\n",
       "      <td>0.782977</td>\n",
       "      <td>0.001</td>\n",
       "    </tr>\n",
       "    <tr>\n",
       "      <th>2</th>\n",
       "      <td>1.243398</td>\n",
       "      <td>0.757599</td>\n",
       "      <td>1.233648</td>\n",
       "      <td>0.789387</td>\n",
       "      <td>0.001</td>\n",
       "    </tr>\n",
       "    <tr>\n",
       "      <th>3</th>\n",
       "      <td>1.078111</td>\n",
       "      <td>0.779912</td>\n",
       "      <td>1.227098</td>\n",
       "      <td>0.795087</td>\n",
       "      <td>0.001</td>\n",
       "    </tr>\n",
       "    <tr>\n",
       "      <th>4</th>\n",
       "      <td>0.985611</td>\n",
       "      <td>0.796798</td>\n",
       "      <td>1.235812</td>\n",
       "      <td>0.796188</td>\n",
       "      <td>0.001</td>\n",
       "    </tr>\n",
       "  </tbody>\n",
       "</table>\n",
       "</div>"
      ],
      "text/plain": [
       "       loss  sparse_categorical_accuracy  val_loss  \\\n",
       "0  4.833012                     0.322911  1.480612   \n",
       "1  1.606043                     0.704709  1.262999   \n",
       "2  1.243398                     0.757599  1.233648   \n",
       "3  1.078111                     0.779912  1.227098   \n",
       "4  0.985611                     0.796798  1.235812   \n",
       "\n",
       "   val_sparse_categorical_accuracy     lr  \n",
       "0                         0.746612  0.001  \n",
       "1                         0.782977  0.001  \n",
       "2                         0.789387  0.001  \n",
       "3                         0.795087  0.001  \n",
       "4                         0.796188  0.001  "
      ]
     },
     "execution_count": 6,
     "metadata": {},
     "output_type": "execute_result"
    }
   ],
   "source": [
    "fit_history_es"
   ]
  },
  {
   "cell_type": "markdown",
   "metadata": {},
   "source": [
    "✔ Learning rate remained constant along the epochs"
   ]
  },
  {
   "cell_type": "code",
   "execution_count": 7,
   "metadata": {},
   "outputs": [
    {
     "data": {
      "text/plain": [
       "<AxesSubplot:>"
      ]
     },
     "execution_count": 7,
     "metadata": {},
     "output_type": "execute_result"
    },
    {
     "data": {
      "image/png": "[encoded data removed]",
      "text/plain": [
       "<Figure size 864x288 with 1 Axes>"
      ]
     },
     "metadata": {
      "needs_background": "light"
     },
     "output_type": "display_data"
    }
   ],
   "source": [
    "plt.figure(figsize=(12,4))\n",
    "sns.lineplot(data=fit_history_es[[\"loss\", \"val_loss\"]])"
   ]
  },
  {
   "cell_type": "markdown",
   "metadata": {},
   "source": [
    "✔ Loss between train and valid sets got similar at the end  \n",
    "✔ Process was stopped by early stopping callback in epoch 4 when the model started overfitting"
   ]
  },
  {
   "cell_type": "code",
   "execution_count": 8,
   "metadata": {},
   "outputs": [
    {
     "data": {
      "text/plain": [
       "<AxesSubplot:>"
      ]
     },
     "execution_count": 8,
     "metadata": {},
     "output_type": "execute_result"
    },
    {
     "data": {
      "image/png": "[encoded data removed]",
      "text/plain": [
       "<Figure size 864x288 with 1 Axes>"
      ]
     },
     "metadata": {
      "needs_background": "light"
     },
     "output_type": "display_data"
    }
   ],
   "source": [
    "plt.figure(figsize=(12,4))\n",
    "sns.lineplot(data=fit_history_es[[\"sparse_categorical_accuracy\", \"val_sparse_categorical_accuracy\"]])"
   ]
  },
  {
   "cell_type": "markdown",
   "metadata": {},
   "source": [
    "✔ Model got in a plateau of accuracy from epoch 4.  \n",
    "✔ Performance for train and valid sets got similar at the end."
   ]
  },
  {
   "cell_type": "markdown",
   "metadata": {},
   "source": [
    "#### Portuguese model"
   ]
  },
  {
   "cell_type": "code",
   "execution_count": 9,
   "metadata": {},
   "outputs": [
    {
     "data": {
      "text/html": [
       "<div>\n",
       "<style scoped>\n",
       "    .dataframe tbody tr th:only-of-type {\n",
       "        vertical-align: middle;\n",
       "    }\n",
       "\n",
       "    .dataframe tbody tr th {\n",
       "        vertical-align: top;\n",
       "    }\n",
       "\n",
       "    .dataframe thead th {\n",
       "        text-align: right;\n",
       "    }\n",
       "</style>\n",
       "<table border=\"1\" class=\"dataframe\">\n",
       "  <thead>\n",
       "    <tr style=\"text-align: right;\">\n",
       "      <th></th>\n",
       "      <th>loss</th>\n",
       "      <th>sparse_categorical_accuracy</th>\n",
       "      <th>val_loss</th>\n",
       "      <th>val_sparse_categorical_accuracy</th>\n",
       "      <th>lr</th>\n",
       "    </tr>\n",
       "  </thead>\n",
       "  <tbody>\n",
       "    <tr>\n",
       "      <th>0</th>\n",
       "      <td>4.868224</td>\n",
       "      <td>0.314112</td>\n",
       "      <td>1.501198</td>\n",
       "      <td>0.738900</td>\n",
       "      <td>0.001</td>\n",
       "    </tr>\n",
       "    <tr>\n",
       "      <th>1</th>\n",
       "      <td>1.690599</td>\n",
       "      <td>0.682888</td>\n",
       "      <td>1.294498</td>\n",
       "      <td>0.772412</td>\n",
       "      <td>0.001</td>\n",
       "    </tr>\n",
       "    <tr>\n",
       "      <th>2</th>\n",
       "      <td>1.349922</td>\n",
       "      <td>0.733899</td>\n",
       "      <td>1.279913</td>\n",
       "      <td>0.776913</td>\n",
       "      <td>0.001</td>\n",
       "    </tr>\n",
       "    <tr>\n",
       "      <th>3</th>\n",
       "      <td>1.302213</td>\n",
       "      <td>0.747799</td>\n",
       "      <td>1.240312</td>\n",
       "      <td>0.786192</td>\n",
       "      <td>0.001</td>\n",
       "    </tr>\n",
       "    <tr>\n",
       "      <th>4</th>\n",
       "      <td>1.122388</td>\n",
       "      <td>0.773299</td>\n",
       "      <td>1.254800</td>\n",
       "      <td>0.785291</td>\n",
       "      <td>0.001</td>\n",
       "    </tr>\n",
       "  </tbody>\n",
       "</table>\n",
       "</div>"
      ],
      "text/plain": [
       "       loss  sparse_categorical_accuracy  val_loss  \\\n",
       "0  4.868224                     0.314112  1.501198   \n",
       "1  1.690599                     0.682888  1.294498   \n",
       "2  1.349922                     0.733899  1.279913   \n",
       "3  1.302213                     0.747799  1.240312   \n",
       "4  1.122388                     0.773299  1.254800   \n",
       "\n",
       "   val_sparse_categorical_accuracy     lr  \n",
       "0                         0.738900  0.001  \n",
       "1                         0.772412  0.001  \n",
       "2                         0.776913  0.001  \n",
       "3                         0.786192  0.001  \n",
       "4                         0.785291  0.001  "
      ]
     },
     "execution_count": 9,
     "metadata": {},
     "output_type": "execute_result"
    }
   ],
   "source": [
    "fit_history_pt"
   ]
  },
  {
   "cell_type": "markdown",
   "metadata": {},
   "source": [
    "✔ Learning rate remained constant along the epochs"
   ]
  },
  {
   "cell_type": "code",
   "execution_count": 10,
   "metadata": {},
   "outputs": [
    {
     "data": {
      "text/plain": [
       "<AxesSubplot:>"
      ]
     },
     "execution_count": 10,
     "metadata": {},
     "output_type": "execute_result"
    },
    {
     "data": {
      "image/png": "[encoded data removed]",
      "text/plain": [
       "<Figure size 864x288 with 1 Axes>"
      ]
     },
     "metadata": {
      "needs_background": "light"
     },
     "output_type": "display_data"
    }
   ],
   "source": [
    "plt.figure(figsize=(12,4))\n",
    "sns.lineplot(data=fit_history_pt[[\"loss\", \"val_loss\"]])"
   ]
  },
  {
   "cell_type": "markdown",
   "metadata": {},
   "source": [
    "✔ Similar to spanish model, ñoss between train and valid sets got similar at the end  \n",
    "✔ Less impact of overfitting is observed here, but the callaback stopped process due to lack of improvement in validation set"
   ]
  },
  {
   "cell_type": "code",
   "execution_count": 11,
   "metadata": {},
   "outputs": [
    {
     "data": {
      "text/plain": [
       "<AxesSubplot:>"
      ]
     },
     "execution_count": 11,
     "metadata": {},
     "output_type": "execute_result"
    },
    {
     "data": {
      "image/png": "[encoded data removed]",
      "text/plain": [
       "<Figure size 864x288 with 1 Axes>"
      ]
     },
     "metadata": {
      "needs_background": "light"
     },
     "output_type": "display_data"
    }
   ],
   "source": [
    "plt.figure(figsize=(12,4))\n",
    "sns.lineplot(data=fit_history_pt[[\"sparse_categorical_accuracy\", \"val_sparse_categorical_accuracy\"]])"
   ]
  },
  {
   "cell_type": "markdown",
   "metadata": {},
   "source": [
    "✔ Similar behavior than spanish model, regarding same performance of train and valid sets on the last epoch."
   ]
  },
  {
   "cell_type": "markdown",
   "metadata": {},
   "source": [
    "### > Check results per model and dataset\n",
    "\n",
    "Now let's evaluate the models in terms of a classification task to see the predictive performance obtained."
   ]
  },
  {
   "cell_type": "markdown",
   "metadata": {
    "hidePrompt": true
   },
   "source": [
    "> The reason of the metrics chosen to evaluate the models is detailed in the document `docs/notes.md`."
   ]
  },
  {
   "cell_type": "markdown",
   "metadata": {},
   "source": [
    "#### Spanish model"
   ]
  },
  {
   "cell_type": "code",
   "execution_count": 12,
   "metadata": {},
   "outputs": [
    {
     "data": {
      "text/html": [
       "<div>\n",
       "<style scoped>\n",
       "    .dataframe tbody tr th:only-of-type {\n",
       "        vertical-align: middle;\n",
       "    }\n",
       "\n",
       "    .dataframe tbody tr th {\n",
       "        vertical-align: top;\n",
       "    }\n",
       "\n",
       "    .dataframe thead th {\n",
       "        text-align: right;\n",
       "    }\n",
       "</style>\n",
       "<table border=\"1\" class=\"dataframe\">\n",
       "  <thead>\n",
       "    <tr style=\"text-align: right;\">\n",
       "      <th></th>\n",
       "      <th>dataset</th>\n",
       "      <th>accuracy</th>\n",
       "      <th>balanced_accuracy</th>\n",
       "      <th>f1_micro</th>\n",
       "      <th>loss</th>\n",
       "    </tr>\n",
       "  </thead>\n",
       "  <tbody>\n",
       "    <tr>\n",
       "      <th>0</th>\n",
       "      <td>train</td>\n",
       "      <td>0.896294</td>\n",
       "      <td>0.843845</td>\n",
       "      <td>0.896294</td>\n",
       "      <td>0.520283</td>\n",
       "    </tr>\n",
       "    <tr>\n",
       "      <th>1</th>\n",
       "      <td>valid</td>\n",
       "      <td>0.796128</td>\n",
       "      <td>0.714955</td>\n",
       "      <td>0.796128</td>\n",
       "      <td>1.235851</td>\n",
       "    </tr>\n",
       "    <tr>\n",
       "      <th>2</th>\n",
       "      <td>test</td>\n",
       "      <td>0.794442</td>\n",
       "      <td>0.715198</td>\n",
       "      <td>0.794442</td>\n",
       "      <td>1.245578</td>\n",
       "    </tr>\n",
       "  </tbody>\n",
       "</table>\n",
       "</div>"
      ],
      "text/plain": [
       "  dataset  accuracy  balanced_accuracy  f1_micro      loss\n",
       "0   train  0.896294           0.843845  0.896294  0.520283\n",
       "1   valid  0.796128           0.714955  0.796128  1.235851\n",
       "2    test  0.794442           0.715198  0.794442  1.245578"
      ]
     },
     "execution_count": 12,
     "metadata": {},
     "output_type": "execute_result"
    }
   ],
   "source": [
    "results_es = get_df_results(all_results, language=\"es\")\n",
    "results_es"
   ]
  },
  {
   "cell_type": "markdown",
   "metadata": {},
   "source": [
    "✔ Some overfitting is observed in terms of having worse performance in valid & test sets compared with train set  \n",
    "✔ Sets valid and test have similar performance, indicating that valid set was representative for the validation  \n",
    "✔ Accuracy is good, even for balanced metric, indicating that most of the instances were correctly predicted  \n",
    "✔ F1-Score is good (close to 0.8), which indicates a good balance between precision and recall and therefore a model that performs well with all the available classes   \n",
    "✔ Next steps should try to mitigate overfitting as well as to increase the accuracy of predictions  "
   ]
  },
  {
   "cell_type": "code",
   "execution_count": 13,
   "metadata": {},
   "outputs": [
    {
     "data": {
      "text/html": [
       "<div>\n",
       "<style scoped>\n",
       "    .dataframe tbody tr th:only-of-type {\n",
       "        vertical-align: middle;\n",
       "    }\n",
       "\n",
       "    .dataframe tbody tr th {\n",
       "        vertical-align: top;\n",
       "    }\n",
       "\n",
       "    .dataframe thead th {\n",
       "        text-align: right;\n",
       "    }\n",
       "</style>\n",
       "<table border=\"1\" class=\"dataframe\">\n",
       "  <thead>\n",
       "    <tr style=\"text-align: right;\">\n",
       "      <th></th>\n",
       "      <th>dataset</th>\n",
       "      <th>accuracy</th>\n",
       "      <th>balanced_accuracy</th>\n",
       "      <th>f1_micro</th>\n",
       "      <th>loss</th>\n",
       "    </tr>\n",
       "  </thead>\n",
       "  <tbody>\n",
       "    <tr>\n",
       "      <th>0</th>\n",
       "      <td>train</td>\n",
       "      <td>0.881918</td>\n",
       "      <td>0.846313</td>\n",
       "      <td>0.881918</td>\n",
       "      <td>0.579234</td>\n",
       "    </tr>\n",
       "    <tr>\n",
       "      <th>1</th>\n",
       "      <td>valid</td>\n",
       "      <td>0.785184</td>\n",
       "      <td>0.730824</td>\n",
       "      <td>0.785184</td>\n",
       "      <td>1.254792</td>\n",
       "    </tr>\n",
       "    <tr>\n",
       "      <th>2</th>\n",
       "      <td>test</td>\n",
       "      <td>0.786829</td>\n",
       "      <td>0.731182</td>\n",
       "      <td>0.786829</td>\n",
       "      <td>1.260613</td>\n",
       "    </tr>\n",
       "  </tbody>\n",
       "</table>\n",
       "</div>"
      ],
      "text/plain": [
       "  dataset  accuracy  balanced_accuracy  f1_micro      loss\n",
       "0   train  0.881918           0.846313  0.881918  0.579234\n",
       "1   valid  0.785184           0.730824  0.785184  1.254792\n",
       "2    test  0.786829           0.731182  0.786829  1.260613"
      ]
     },
     "execution_count": 13,
     "metadata": {},
     "output_type": "execute_result"
    }
   ],
   "source": [
    "results_pt = get_df_results(all_results, language=\"pt\")\n",
    "results_pt"
   ]
  },
  {
   "cell_type": "markdown",
   "metadata": {},
   "source": [
    "✔ Same observations done for spanish model apply for this one "
   ]
  },
  {
   "cell_type": "markdown",
   "metadata": {},
   "source": [
    "> NOTE: missing validation of predictions overall data, but it is expected to be similar since there are balanced data regarding language"
   ]
  },
  {
   "cell_type": "markdown",
   "metadata": {},
   "source": [
    "### Conclusions\n",
    "- Models obtained have good performance for the classification task\n",
    "- Next steps of the modeling should try to mitigate overfitting as well as to improve the accuracy of predictions.\n",
    "- Next validation should be done with all the 20M rows, to see if the metrics change significantly."
   ]
  }
 ],
 "metadata": {
  "@webio": {
   "lastCommId": null,
   "lastKernelId": null
  },
  "kernelspec": {
   "display_name": "venv",
   "language": "python",
   "name": "venv"
  },
  "language_info": {
   "codemirror_mode": {
    "name": "ipython",
    "version": 3
   },
   "file_extension": ".py",
   "mimetype": "text/x-python",
   "name": "python",
   "nbconvert_exporter": "python",
   "pygments_lexer": "ipython3",
   "version": "3.6.9"
  }
 },
 "nbformat": 4,
 "nbformat_minor": 4
}
